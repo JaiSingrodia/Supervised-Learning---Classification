{
  "cells": [
    {
      "cell_type": "code",
      "execution_count": 28,
      "id": "0984c3d8-6760-41aa-be39-9d3ced8d0ce5",
      "metadata": {
        "trusted": true
      },
      "outputs": [
        {
          "name": "stdout",
          "output_type": "stream",
          "text": [
            "imported libraries\n"
          ]
        }
      ],
      "source": [
        "import numpy as np\n",
        "import pandas as pd\n",
        "import matplotlib.pyplot as plt\n",
        "print(\"imported libraries\")"
      ]
    },
    {
      "cell_type": "markdown",
      "id": "fafd70b3",
      "metadata": {},
      "source": [
        "Reading the dataset"
      ]
    },
    {
      "cell_type": "code",
      "execution_count": 29,
      "id": "2cd19cd2-a1e5-4292-a4f6-1ca81972c590",
      "metadata": {},
      "outputs": [
        {
          "data": {
            "text/html": [
              "<div>\n",
              "<style scoped>\n",
              "    .dataframe tbody tr th:only-of-type {\n",
              "        vertical-align: middle;\n",
              "    }\n",
              "\n",
              "    .dataframe tbody tr th {\n",
              "        vertical-align: top;\n",
              "    }\n",
              "\n",
              "    .dataframe thead th {\n",
              "        text-align: right;\n",
              "    }\n",
              "</style>\n",
              "<table border=\"1\" class=\"dataframe\">\n",
              "  <thead>\n",
              "    <tr style=\"text-align: right;\">\n",
              "      <th></th>\n",
              "      <th>PassengerId</th>\n",
              "      <th>Survived</th>\n",
              "      <th>Pclass</th>\n",
              "      <th>Name</th>\n",
              "      <th>Sex</th>\n",
              "      <th>Age</th>\n",
              "      <th>SibSp</th>\n",
              "      <th>Parch</th>\n",
              "      <th>Ticket</th>\n",
              "      <th>Fare</th>\n",
              "      <th>Cabin</th>\n",
              "      <th>Embarked</th>\n",
              "    </tr>\n",
              "  </thead>\n",
              "  <tbody>\n",
              "    <tr>\n",
              "      <th>0</th>\n",
              "      <td>1</td>\n",
              "      <td>0</td>\n",
              "      <td>3</td>\n",
              "      <td>Braund, Mr. Owen Harris</td>\n",
              "      <td>male</td>\n",
              "      <td>22.0</td>\n",
              "      <td>1</td>\n",
              "      <td>0</td>\n",
              "      <td>A/5 21171</td>\n",
              "      <td>7.2500</td>\n",
              "      <td>NaN</td>\n",
              "      <td>S</td>\n",
              "    </tr>\n",
              "    <tr>\n",
              "      <th>1</th>\n",
              "      <td>2</td>\n",
              "      <td>1</td>\n",
              "      <td>1</td>\n",
              "      <td>Cumings, Mrs. John Bradley (Florence Briggs Th...</td>\n",
              "      <td>female</td>\n",
              "      <td>38.0</td>\n",
              "      <td>1</td>\n",
              "      <td>0</td>\n",
              "      <td>PC 17599</td>\n",
              "      <td>71.2833</td>\n",
              "      <td>C85</td>\n",
              "      <td>C</td>\n",
              "    </tr>\n",
              "    <tr>\n",
              "      <th>2</th>\n",
              "      <td>3</td>\n",
              "      <td>1</td>\n",
              "      <td>3</td>\n",
              "      <td>Heikkinen, Miss. Laina</td>\n",
              "      <td>female</td>\n",
              "      <td>26.0</td>\n",
              "      <td>0</td>\n",
              "      <td>0</td>\n",
              "      <td>STON/O2. 3101282</td>\n",
              "      <td>7.9250</td>\n",
              "      <td>NaN</td>\n",
              "      <td>S</td>\n",
              "    </tr>\n",
              "  </tbody>\n",
              "</table>\n",
              "</div>"
            ],
            "text/plain": [
              "   PassengerId  Survived  Pclass  \\\n",
              "0            1         0       3   \n",
              "1            2         1       1   \n",
              "2            3         1       3   \n",
              "\n",
              "                                                Name     Sex   Age  SibSp  \\\n",
              "0                            Braund, Mr. Owen Harris    male  22.0      1   \n",
              "1  Cumings, Mrs. John Bradley (Florence Briggs Th...  female  38.0      1   \n",
              "2                             Heikkinen, Miss. Laina  female  26.0      0   \n",
              "\n",
              "   Parch            Ticket     Fare Cabin Embarked  \n",
              "0      0         A/5 21171   7.2500   NaN        S  \n",
              "1      0          PC 17599  71.2833   C85        C  \n",
              "2      0  STON/O2. 3101282   7.9250   NaN        S  "
            ]
          },
          "execution_count": 29,
          "metadata": {},
          "output_type": "execute_result"
        }
      ],
      "source": [
        "data = pd.read_csv(\"train.csv\")\n",
        "data.head(3)"
      ]
    },
    {
      "cell_type": "markdown",
      "id": "56797e01",
      "metadata": {},
      "source": [
        "Pre-processing of data: Removing columns which have no impact on deciding the survival of passengers.  "
      ]
    },
    {
      "cell_type": "code",
      "execution_count": 30,
      "id": "fed9c724",
      "metadata": {},
      "outputs": [
        {
          "data": {
            "text/html": [
              "<div>\n",
              "<style scoped>\n",
              "    .dataframe tbody tr th:only-of-type {\n",
              "        vertical-align: middle;\n",
              "    }\n",
              "\n",
              "    .dataframe tbody tr th {\n",
              "        vertical-align: top;\n",
              "    }\n",
              "\n",
              "    .dataframe thead th {\n",
              "        text-align: right;\n",
              "    }\n",
              "</style>\n",
              "<table border=\"1\" class=\"dataframe\">\n",
              "  <thead>\n",
              "    <tr style=\"text-align: right;\">\n",
              "      <th></th>\n",
              "      <th>Survived</th>\n",
              "      <th>Pclass</th>\n",
              "      <th>Sex</th>\n",
              "      <th>Age</th>\n",
              "      <th>Fare</th>\n",
              "    </tr>\n",
              "  </thead>\n",
              "  <tbody>\n",
              "    <tr>\n",
              "      <th>0</th>\n",
              "      <td>0</td>\n",
              "      <td>3</td>\n",
              "      <td>male</td>\n",
              "      <td>22.0</td>\n",
              "      <td>7.2500</td>\n",
              "    </tr>\n",
              "    <tr>\n",
              "      <th>1</th>\n",
              "      <td>1</td>\n",
              "      <td>1</td>\n",
              "      <td>female</td>\n",
              "      <td>38.0</td>\n",
              "      <td>71.2833</td>\n",
              "    </tr>\n",
              "    <tr>\n",
              "      <th>2</th>\n",
              "      <td>1</td>\n",
              "      <td>3</td>\n",
              "      <td>female</td>\n",
              "      <td>26.0</td>\n",
              "      <td>7.9250</td>\n",
              "    </tr>\n",
              "  </tbody>\n",
              "</table>\n",
              "</div>"
            ],
            "text/plain": [
              "   Survived  Pclass     Sex   Age     Fare\n",
              "0         0       3    male  22.0   7.2500\n",
              "1         1       1  female  38.0  71.2833\n",
              "2         1       3  female  26.0   7.9250"
            ]
          },
          "execution_count": 30,
          "metadata": {},
          "output_type": "execute_result"
        }
      ],
      "source": [
        "data.drop(['PassengerId','Name','SibSp','Parch','Ticket','Cabin','Embarked'],axis='columns',inplace=True)\n",
        "data.head(3)"
      ]
    },
    {
      "cell_type": "markdown",
      "id": "4e9e0c57",
      "metadata": {},
      "source": [
        "Dividing the dataset into input and target"
      ]
    },
    {
      "cell_type": "code",
      "execution_count": 31,
      "id": "a317479c",
      "metadata": {},
      "outputs": [],
      "source": [
        "target=data.Survived\n",
        "inputs=data.drop('Survived', axis='columns')"
      ]
    },
    {
      "cell_type": "markdown",
      "id": "c34c16a5",
      "metadata": {},
      "source": [
        "Changing the values of sex columns into numbers so that we can use them to train our model."
      ]
    },
    {
      "cell_type": "code",
      "execution_count": 32,
      "id": "83e98b13",
      "metadata": {},
      "outputs": [],
      "source": [
        "dummies=pd.get_dummies(inputs.Sex)"
      ]
    },
    {
      "cell_type": "markdown",
      "id": "dd1f5b99",
      "metadata": {},
      "source": [
        "Merging the male female column into the original dataset."
      ]
    },
    {
      "cell_type": "code",
      "execution_count": 33,
      "id": "e78d6676",
      "metadata": {},
      "outputs": [],
      "source": [
        "inputs=pd.concat([inputs,dummies],axis='columns')"
      ]
    },
    {
      "cell_type": "markdown",
      "id": "f308716c",
      "metadata": {},
      "source": [
        "Deleting Sex column as no longer required."
      ]
    },
    {
      "cell_type": "code",
      "execution_count": 34,
      "id": "4ed06cc0",
      "metadata": {},
      "outputs": [
        {
          "data": {
            "text/html": [
              "<div>\n",
              "<style scoped>\n",
              "    .dataframe tbody tr th:only-of-type {\n",
              "        vertical-align: middle;\n",
              "    }\n",
              "\n",
              "    .dataframe tbody tr th {\n",
              "        vertical-align: top;\n",
              "    }\n",
              "\n",
              "    .dataframe thead th {\n",
              "        text-align: right;\n",
              "    }\n",
              "</style>\n",
              "<table border=\"1\" class=\"dataframe\">\n",
              "  <thead>\n",
              "    <tr style=\"text-align: right;\">\n",
              "      <th></th>\n",
              "      <th>Pclass</th>\n",
              "      <th>Age</th>\n",
              "      <th>Fare</th>\n",
              "      <th>female</th>\n",
              "      <th>male</th>\n",
              "    </tr>\n",
              "  </thead>\n",
              "  <tbody>\n",
              "    <tr>\n",
              "      <th>0</th>\n",
              "      <td>3</td>\n",
              "      <td>22.0</td>\n",
              "      <td>7.2500</td>\n",
              "      <td>0</td>\n",
              "      <td>1</td>\n",
              "    </tr>\n",
              "    <tr>\n",
              "      <th>1</th>\n",
              "      <td>1</td>\n",
              "      <td>38.0</td>\n",
              "      <td>71.2833</td>\n",
              "      <td>1</td>\n",
              "      <td>0</td>\n",
              "    </tr>\n",
              "    <tr>\n",
              "      <th>2</th>\n",
              "      <td>3</td>\n",
              "      <td>26.0</td>\n",
              "      <td>7.9250</td>\n",
              "      <td>1</td>\n",
              "      <td>0</td>\n",
              "    </tr>\n",
              "  </tbody>\n",
              "</table>\n",
              "</div>"
            ],
            "text/plain": [
              "   Pclass   Age     Fare  female  male\n",
              "0       3  22.0   7.2500       0     1\n",
              "1       1  38.0  71.2833       1     0\n",
              "2       3  26.0   7.9250       1     0"
            ]
          },
          "execution_count": 34,
          "metadata": {},
          "output_type": "execute_result"
        }
      ],
      "source": [
        "inputs.drop('Sex', axis='columns',inplace=True)\n",
        "inputs.head(3)"
      ]
    },
    {
      "cell_type": "markdown",
      "id": "1d61f352",
      "metadata": {},
      "source": [
        "Checking if any column has NA values"
      ]
    },
    {
      "cell_type": "code",
      "execution_count": 35,
      "id": "8f8d3079",
      "metadata": {},
      "outputs": [
        {
          "data": {
            "text/plain": [
              "Index(['Age'], dtype='object')"
            ]
          },
          "execution_count": 35,
          "metadata": {},
          "output_type": "execute_result"
        }
      ],
      "source": [
        "inputs.columns[inputs.isna().any()]"
      ]
    },
    {
      "cell_type": "markdown",
      "id": "b09bd273",
      "metadata": {},
      "source": [
        "Fill the NA value by taking avg of all Age's numeric value."
      ]
    },
    {
      "cell_type": "code",
      "execution_count": 36,
      "id": "c88fd85c",
      "metadata": {},
      "outputs": [],
      "source": [
        "inputs.Age = inputs.Age.fillna(inputs.Age.mean())"
      ]
    },
    {
      "cell_type": "markdown",
      "id": "1d93b6e8",
      "metadata": {},
      "source": [
        "Spliting the dataset into training and testing dataset"
      ]
    },
    {
      "cell_type": "code",
      "execution_count": 37,
      "id": "bcfad50c",
      "metadata": {},
      "outputs": [],
      "source": [
        "from sklearn.model_selection import train_test_split\n",
        "X_test, X_train, y_test , y_train = train_test_split(inputs,target,test_size=0.2)"
      ]
    },
    {
      "cell_type": "markdown",
      "id": "4abd7211",
      "metadata": {},
      "source": [
        "Calculate P(X=x/Y=y) using Gaussian distribution"
      ]
    },
    {
      "cell_type": "code",
      "execution_count": 38,
      "id": "50fe9358",
      "metadata": {},
      "outputs": [],
      "source": [
        "def calculate_likelihood_gaussian(X, Y, label, feat_name, feat_val):\n",
        "    x = X[feat_name]\n",
        "    count = 0\n",
        "    for index in x.index:\n",
        "        if Y[index]==label and x[index]==feat_val:\n",
        "            count=count+1\n",
        "    p_x_and_y = count/len(x)\n",
        "    p_y = len(Y[Y==label])/len(Y)\n",
        "    return p_x_and_y/p_y"
      ]
    },
    {
      "cell_type": "markdown",
      "id": "703f5921",
      "metadata": {},
      "source": [
        "Calculate P(X=x1/Y=y)P(X=x2/Y=y).....P(X=xn/Y=y)*P()"
      ]
    },
    {
      "cell_type": "code",
      "execution_count": 39,
      "id": "50a4dc61",
      "metadata": {},
      "outputs": [],
      "source": [
        "def pxgiveny(X, Y, index, label):\n",
        "    count=1\n",
        "    columns = X.columns\n",
        "    for i in columns:\n",
        "        count=count*calculate_likelihood_gaussian(X, Y, label, i, X.loc[index][i])\n",
        "    return count*len(Y[Y==label])/len(Y)"
      ]
    },
    {
      "cell_type": "markdown",
      "id": "0887fd52",
      "metadata": {},
      "source": [
        "Function to find accuracy of prediction on test data set"
      ]
    },
    {
      "cell_type": "code",
      "execution_count": 40,
      "id": "2d9f8842",
      "metadata": {},
      "outputs": [],
      "source": [
        "def p(X, Y):\n",
        "    a=[]\n",
        "    for ind in X.index:\n",
        "        c = sorted(list(Y.unique()))\n",
        "        max = 0\n",
        "        for i in c:\n",
        "          p =  pxgiveny(X, Y, ind, i)\n",
        "          if p>max :\n",
        "            max = i\n",
        "        a.append(max)\n",
        "    Pr_df = pd.DataFrame({'yPredict': a, 'y': Y})\n",
        "    count = 0\n",
        "    yPre = Pr_df.yPredict\n",
        "    y = Pr_df.y\n",
        "    for i in Pr_df.index:\n",
        "        if  y[i]==yPre[i]:\n",
        "            count = count+1\n",
        "    accuracy = (count/len(Y))*100\n",
        "    print('accuracy:', accuracy)\n",
        "    return accuracy"
      ]
    },
    {
      "cell_type": "code",
      "execution_count": 41,
      "id": "29b682ef",
      "metadata": {},
      "outputs": [
        {
          "name": "stdout",
          "output_type": "stream",
          "text": [
            "accuracy: 66.43258426966293\n"
          ]
        },
        {
          "data": {
            "text/plain": [
              "66.43258426966293"
            ]
          },
          "execution_count": 41,
          "metadata": {},
          "output_type": "execute_result"
        }
      ],
      "source": [
        "p(X_test, y_test)"
      ]
    }
  ],
  "metadata": {
    "interpreter": {
      "hash": "a28960e65365257941a791ce2683654f258fd3efc08277d53aa5422e77a5c2c7"
    },
    "kernelspec": {
      "display_name": "Python 3.9.7 64-bit",
      "language": "python",
      "name": "python3"
    },
    "language_info": {
      "codemirror_mode": {
        "name": "ipython",
        "version": 3
      },
      "file_extension": ".py",
      "mimetype": "text/x-python",
      "name": "python",
      "nbconvert_exporter": "python",
      "pygments_lexer": "ipython3",
      "version": "3.9.7"
    }
  },
  "nbformat": 4,
  "nbformat_minor": 5
}
