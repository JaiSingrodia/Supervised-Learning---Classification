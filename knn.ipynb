{
  "cells": [
    {
      "cell_type": "code",
      "execution_count": 51,
      "id": "0984c3d8-6760-41aa-be39-9d3ced8d0ce5",
      "metadata": {
        "trusted": true
      },
      "outputs": [],
      "source": [
        "import numpy as np\n",
        "import pandas as pd\n",
        "import matplotlib.pyplot as plt\n",
        "from collections import Counter"
      ]
    },
    {
      "cell_type": "markdown",
      "id": "fafd70b3",
      "metadata": {},
      "source": [
        "Reading the dataset"
      ]
    },
    {
      "cell_type": "code",
      "execution_count": 52,
      "id": "2cd19cd2-a1e5-4292-a4f6-1ca81972c590",
      "metadata": {},
      "outputs": [],
      "source": [
        "data = pd.read_csv(\"train.csv\")\n",
        "data_test = pd.read_csv(\"test.csv\")\n",
        "data_test_out = pd.read_csv(\"gender_submission.csv\")"
      ]
    },
    {
      "cell_type": "markdown",
      "id": "56797e01",
      "metadata": {},
      "source": [
        "Pre-processing of data: Removing columns which have no impact on deciding the survival of passengers.  "
      ]
    },
    {
      "cell_type": "code",
      "execution_count": 53,
      "id": "fed9c724",
      "metadata": {},
      "outputs": [],
      "source": [
        "data.drop(['PassengerId','Name','SibSp','Parch','Ticket','Cabin','Embarked'],axis='columns',inplace=True)\n",
        "data_test.drop(['PassengerId','Name','SibSp','Parch','Ticket','Cabin','Embarked'],axis='columns',inplace=True)"
      ]
    },
    {
      "cell_type": "markdown",
      "id": "4e9e0c57",
      "metadata": {},
      "source": [
        "Dividing the dataset into input and target"
      ]
    },
    {
      "cell_type": "code",
      "execution_count": 54,
      "id": "a317479c",
      "metadata": {},
      "outputs": [],
      "source": [
        "target=data.Survived\n",
        "inputs=data.drop('Survived', axis='columns')\n",
        "target_test=data_test_out\n",
        "inputs_test=data_test"
      ]
    },
    {
      "cell_type": "markdown",
      "id": "c34c16a5",
      "metadata": {},
      "source": [
        "Changing the values of sex columns into numbers so that we can use them to train our model."
      ]
    },
    {
      "cell_type": "code",
      "execution_count": 55,
      "id": "83e98b13",
      "metadata": {},
      "outputs": [],
      "source": [
        "dummies=pd.get_dummies(inputs.Sex)\n",
        "dummies_test=pd.get_dummies(inputs_test.Sex)"
      ]
    },
    {
      "cell_type": "markdown",
      "id": "dd1f5b99",
      "metadata": {},
      "source": [
        "Merging the male female column into the original dataset."
      ]
    },
    {
      "cell_type": "code",
      "execution_count": 56,
      "id": "e78d6676",
      "metadata": {},
      "outputs": [],
      "source": [
        "inputs=pd.concat([inputs,dummies],axis='columns')\n",
        "inputs_test=pd.concat([inputs_test,dummies_test],axis='columns')"
      ]
    },
    {
      "cell_type": "markdown",
      "id": "f308716c",
      "metadata": {},
      "source": [
        "Deleting Sex column as no longer required."
      ]
    },
    {
      "cell_type": "code",
      "execution_count": 57,
      "id": "4ed06cc0",
      "metadata": {},
      "outputs": [
        {
          "data": {
            "text/html": [
              "<div>\n",
              "<style scoped>\n",
              "    .dataframe tbody tr th:only-of-type {\n",
              "        vertical-align: middle;\n",
              "    }\n",
              "\n",
              "    .dataframe tbody tr th {\n",
              "        vertical-align: top;\n",
              "    }\n",
              "\n",
              "    .dataframe thead th {\n",
              "        text-align: right;\n",
              "    }\n",
              "</style>\n",
              "<table border=\"1\" class=\"dataframe\">\n",
              "  <thead>\n",
              "    <tr style=\"text-align: right;\">\n",
              "      <th></th>\n",
              "      <th>Pclass</th>\n",
              "      <th>Age</th>\n",
              "      <th>Fare</th>\n",
              "      <th>female</th>\n",
              "      <th>male</th>\n",
              "    </tr>\n",
              "  </thead>\n",
              "  <tbody>\n",
              "    <tr>\n",
              "      <th>0</th>\n",
              "      <td>3</td>\n",
              "      <td>34.5</td>\n",
              "      <td>7.8292</td>\n",
              "      <td>0</td>\n",
              "      <td>1</td>\n",
              "    </tr>\n",
              "    <tr>\n",
              "      <th>1</th>\n",
              "      <td>3</td>\n",
              "      <td>47.0</td>\n",
              "      <td>7.0000</td>\n",
              "      <td>1</td>\n",
              "      <td>0</td>\n",
              "    </tr>\n",
              "    <tr>\n",
              "      <th>2</th>\n",
              "      <td>2</td>\n",
              "      <td>62.0</td>\n",
              "      <td>9.6875</td>\n",
              "      <td>0</td>\n",
              "      <td>1</td>\n",
              "    </tr>\n",
              "  </tbody>\n",
              "</table>\n",
              "</div>"
            ],
            "text/plain": [
              "   Pclass   Age    Fare  female  male\n",
              "0       3  34.5  7.8292       0     1\n",
              "1       3  47.0  7.0000       1     0\n",
              "2       2  62.0  9.6875       0     1"
            ]
          },
          "execution_count": 57,
          "metadata": {},
          "output_type": "execute_result"
        }
      ],
      "source": [
        "inputs.drop('Sex', axis='columns',inplace=True)\n",
        "inputs_test.drop('Sex', axis='columns',inplace=True)\n",
        "inputs_test.head(3)"
      ]
    },
    {
      "cell_type": "markdown",
      "id": "1d61f352",
      "metadata": {},
      "source": [
        "Checking if any column has NA values"
      ]
    },
    {
      "cell_type": "code",
      "execution_count": 58,
      "id": "8f8d3079",
      "metadata": {},
      "outputs": [],
      "source": [
        "inputs.columns[inputs.isna().any()]\n",
        "inputs.Age = inputs.Age.fillna(inputs.Age.mean())"
      ]
    },
    {
      "cell_type": "markdown",
      "id": "b09bd273",
      "metadata": {},
      "source": [
        "Fill the NA value by taking avg of all Age's numeric value."
      ]
    },
    {
      "cell_type": "code",
      "execution_count": 59,
      "id": "c88fd85c",
      "metadata": {},
      "outputs": [],
      "source": [
        "inputs_test.columns[inputs_test.isna().any()]\n",
        "inputs_test.Age = inputs_test.Age.fillna(inputs_test.Age.mean())"
      ]
    },
    {
      "cell_type": "markdown",
      "id": "1d93b6e8",
      "metadata": {},
      "source": [
        "Taking variable as k"
      ]
    },
    {
      "cell_type": "code",
      "execution_count": 60,
      "id": "bcfad50c",
      "metadata": {},
      "outputs": [],
      "source": [
        "k = 5"
      ]
    },
    {
      "cell_type": "markdown",
      "id": "5bc237d0",
      "metadata": {},
      "source": [
        "This method gives euclidien distance between any two data points"
      ]
    },
    {
      "cell_type": "code",
      "execution_count": 61,
      "id": "fa04d184",
      "metadata": {},
      "outputs": [],
      "source": [
        "def euclidien_dist(x1, x2):\n",
        "    count = 0\n",
        "    for i in range(len(x1)):\n",
        "        a=(x1[i]-x2[i])**2\n",
        "        count = count + a\n",
        "    return count ** 0.5"
      ]
    },
    {
      "cell_type": "markdown",
      "id": "cf00de0c",
      "metadata": {},
      "source": [
        "This method compares actual and predicted output"
      ]
    },
    {
      "cell_type": "code",
      "execution_count": 62,
      "id": "9200462d",
      "metadata": {},
      "outputs": [],
      "source": [
        "def compare(y_pred, y_test):\n",
        "    count = 0\n",
        "    for i in y_test.index:\n",
        "        if y_pred[i] == y_test.loc[i]:\n",
        "            count = count +1\n",
        "    return count*100/len(y_pred)"
      ]
    },
    {
      "cell_type": "markdown",
      "id": "a9eeded4",
      "metadata": {},
      "source": [
        "This method trains the model with K nearest neighbours algorithm and renders accuracy by comparing predicted output with actual output"
      ]
    },
    {
      "cell_type": "code",
      "execution_count": 63,
      "id": "1e7009f7",
      "metadata": {},
      "outputs": [],
      "source": [
        "def knn(x_train, y_train, x_test, y_test, k):\n",
        "    mini = 0\n",
        "    count = 0\n",
        "    c = []\n",
        "    for index in x_test.index:\n",
        "        dist_list = []\n",
        "        for index1 in x_train.index:\n",
        "            dist = euclidien_dist(x_test.loc[index], x_train.loc[index1])\n",
        "            dist_list.append(dist)\n",
        "        indices = np.argsort(dist_list)[:k]\n",
        "        a = []\n",
        "        for i in indices:\n",
        "            a.append(y_train.loc[i])\n",
        "        most_common = Counter(a).most_common(1)        \n",
        "        c.append(most_common[0][0])\n",
        "    return compare(c, y_test.Survived)\n",
        "    "
      ]
    },
    {
      "cell_type": "code",
      "execution_count": 64,
      "id": "03921784",
      "metadata": {},
      "outputs": [
        {
          "name": "stdout",
          "output_type": "stream",
          "text": [
            "accuracy :  72.72727272727273 %\n"
          ]
        }
      ],
      "source": [
        "accuracy = knn(inputs, target, inputs_test,  target_test, k)\n",
        "print(\"accuracy : \", accuracy, \"%\")"
      ]
    }
  ],
  "metadata": {
    "interpreter": {
      "hash": "a28960e65365257941a791ce2683654f258fd3efc08277d53aa5422e77a5c2c7"
    },
    "kernelspec": {
      "display_name": "Python 3.9.7 64-bit",
      "language": "python",
      "name": "python3"
    },
    "language_info": {
      "codemirror_mode": {
        "name": "ipython",
        "version": 3
      },
      "file_extension": ".py",
      "mimetype": "text/x-python",
      "name": "python",
      "nbconvert_exporter": "python",
      "pygments_lexer": "ipython3",
      "version": "3.9.7"
    }
  },
  "nbformat": 4,
  "nbformat_minor": 5
}
